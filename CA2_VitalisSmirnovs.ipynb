{
 "cells": [
  {
   "cell_type": "code",
   "execution_count": 1,
   "metadata": {},
   "outputs": [
    {
     "name": "stdout",
     "output_type": "stream",
     "text": [
      "Hello World!\n"
     ]
    }
   ],
   "source": [
    "print(\"Hello World!\")"
   ]
  },
  {
   "cell_type": "markdown",
   "metadata": {},
   "source": [
    "# CA\n",
    "## Subject:\n",
    "### Student: Vitalis Smirnovs\n",
    "### Student ID:"
   ]
  },
  {
   "cell_type": "markdown",
   "metadata": {},
   "source": [
    "#### Document Outline:\n",
    "1. Introduction;\n",
    "2. Data and Methods;\n",
    "3. Regression Analysis;\n",
    "4. Machine Learning;\n",
    "5. Discussion of Results and Conclusion."
   ]
  },
  {
   "cell_type": "markdown",
   "metadata": {},
   "source": [
    "1. Introduction\n",
    "\n",
    "1.1. Crop Yeld In Ireland <br>\n",
    "1.2. Data: Source and Description <br>\n",
    "1.3. Methods <br>"
   ]
  },
  {
   "cell_type": "code",
   "execution_count": 7,
   "metadata": {},
   "outputs": [],
   "source": [
    "# import libraries that are needed for this project\n",
    "import numpy as np \n",
    "import pandas as pd\n",
    "import matplotlib as plt\n",
    "import matplotlib.pyplot as pltpy\n",
    "import seaborn as sns\n",
    "import scipy.stats as stats\n",
    "import termcolor\n",
    "from termcolor import colored\n",
    "#from astroML.plotting import setup_text_plots\n",
    "#import seaborn as seabornInstance \n",
    "from sklearn.model_selection import train_test_split \n",
    "from sklearn.linear_model import LinearRegression\n",
    "from sklearn import metrics\n",
    "from sklearn.metrics import r2_score\n",
    "%matplotlib inline\n",
    "from scipy.optimize import curve_fit\n",
    "from sklearn.ensemble import RandomForestRegressor\n",
    "from sklearn.model_selection import cross_val_score\n",
    "import pickle "
   ]
  },
  {
   "cell_type": "code",
   "execution_count": 8,
   "metadata": {},
   "outputs": [],
   "source": [
    "# https://forums.fast.ai/t/jupyter-notebook-enhancements-tips-and-tricks/17064/5\n",
    "# these are the functions to help to make output look nicer and easier to read\n",
    "from IPython.display import Markdown, display\n",
    "\n",
    "def printmd(string):\n",
    "    display(Markdown(string))                                           # for printing in bold\n",
    "\n",
    "def printmd(string, color=None):                                               \n",
    "    colorstr = \"<span style='color:{}'>{}</span>\".format(color, string)  # printing in colour\n",
    "    display(Markdown(colorstr))"
   ]
  },
  {
   "cell_type": "code",
   "execution_count": 9,
   "metadata": {},
   "outputs": [
    {
     "data": {
      "text/html": [
       "<div>\n",
       "<style scoped>\n",
       "    .dataframe tbody tr th:only-of-type {\n",
       "        vertical-align: middle;\n",
       "    }\n",
       "\n",
       "    .dataframe tbody tr th {\n",
       "        vertical-align: top;\n",
       "    }\n",
       "\n",
       "    .dataframe thead th {\n",
       "        text-align: right;\n",
       "    }\n",
       "</style>\n",
       "<table border=\"1\" class=\"dataframe\">\n",
       "  <thead>\n",
       "    <tr style=\"text-align: right;\">\n",
       "      <th></th>\n",
       "      <th>STATISTIC</th>\n",
       "      <th>Statistic</th>\n",
       "      <th>TLIST(A1)</th>\n",
       "      <th>Year</th>\n",
       "      <th>C02039V02469</th>\n",
       "      <th>Type of Crop</th>\n",
       "      <th>UNIT</th>\n",
       "      <th>VALUE</th>\n",
       "    </tr>\n",
       "  </thead>\n",
       "  <tbody>\n",
       "    <tr>\n",
       "      <th>0</th>\n",
       "      <td>AQA03C1</td>\n",
       "      <td>Area under Crops</td>\n",
       "      <td>1985</td>\n",
       "      <td>1985</td>\n",
       "      <td>1</td>\n",
       "      <td>Total wheat, oats and barley</td>\n",
       "      <td>000 Hectares</td>\n",
       "      <td>386.2</td>\n",
       "    </tr>\n",
       "    <tr>\n",
       "      <th>1</th>\n",
       "      <td>AQA03C1</td>\n",
       "      <td>Area under Crops</td>\n",
       "      <td>1985</td>\n",
       "      <td>1985</td>\n",
       "      <td>11</td>\n",
       "      <td>Total wheat</td>\n",
       "      <td>000 Hectares</td>\n",
       "      <td>77.7</td>\n",
       "    </tr>\n",
       "    <tr>\n",
       "      <th>2</th>\n",
       "      <td>AQA03C1</td>\n",
       "      <td>Area under Crops</td>\n",
       "      <td>1985</td>\n",
       "      <td>1985</td>\n",
       "      <td>111</td>\n",
       "      <td>Winter wheat</td>\n",
       "      <td>000 Hectares</td>\n",
       "      <td>60.3</td>\n",
       "    </tr>\n",
       "    <tr>\n",
       "      <th>3</th>\n",
       "      <td>AQA03C1</td>\n",
       "      <td>Area under Crops</td>\n",
       "      <td>1985</td>\n",
       "      <td>1985</td>\n",
       "      <td>112</td>\n",
       "      <td>Spring wheat</td>\n",
       "      <td>000 Hectares</td>\n",
       "      <td>17.4</td>\n",
       "    </tr>\n",
       "    <tr>\n",
       "      <th>4</th>\n",
       "      <td>AQA03C1</td>\n",
       "      <td>Area under Crops</td>\n",
       "      <td>1985</td>\n",
       "      <td>1985</td>\n",
       "      <td>12</td>\n",
       "      <td>Total oats</td>\n",
       "      <td>000 Hectares</td>\n",
       "      <td>24.9</td>\n",
       "    </tr>\n",
       "    <tr>\n",
       "      <th>...</th>\n",
       "      <td>...</td>\n",
       "      <td>...</td>\n",
       "      <td>...</td>\n",
       "      <td>...</td>\n",
       "      <td>...</td>\n",
       "      <td>...</td>\n",
       "      <td>...</td>\n",
       "      <td>...</td>\n",
       "    </tr>\n",
       "    <tr>\n",
       "      <th>1168</th>\n",
       "      <td>AQA03C3</td>\n",
       "      <td>Crop Yield</td>\n",
       "      <td>2007</td>\n",
       "      <td>2007</td>\n",
       "      <td>4</td>\n",
       "      <td>Potatoes</td>\n",
       "      <td>000 Tonnes</td>\n",
       "      <td>399.0</td>\n",
       "    </tr>\n",
       "    <tr>\n",
       "      <th>1169</th>\n",
       "      <td>AQA03C3</td>\n",
       "      <td>Crop Yield</td>\n",
       "      <td>2007</td>\n",
       "      <td>2007</td>\n",
       "      <td>5</td>\n",
       "      <td>Turnips</td>\n",
       "      <td>000 Tonnes</td>\n",
       "      <td>NaN</td>\n",
       "    </tr>\n",
       "    <tr>\n",
       "      <th>1170</th>\n",
       "      <td>AQA03C3</td>\n",
       "      <td>Crop Yield</td>\n",
       "      <td>2007</td>\n",
       "      <td>2007</td>\n",
       "      <td>61</td>\n",
       "      <td>Sugar beet</td>\n",
       "      <td>000 Tonnes</td>\n",
       "      <td>NaN</td>\n",
       "    </tr>\n",
       "    <tr>\n",
       "      <th>1171</th>\n",
       "      <td>AQA03C3</td>\n",
       "      <td>Crop Yield</td>\n",
       "      <td>2007</td>\n",
       "      <td>2007</td>\n",
       "      <td>62</td>\n",
       "      <td>Fodder beet</td>\n",
       "      <td>000 Tonnes</td>\n",
       "      <td>NaN</td>\n",
       "    </tr>\n",
       "    <tr>\n",
       "      <th>1172</th>\n",
       "      <td>AQA03C3</td>\n",
       "      <td>Crop Yield</td>\n",
       "      <td>2007</td>\n",
       "      <td>2007</td>\n",
       "      <td>7</td>\n",
       "      <td>Kale and field cabbage</td>\n",
       "      <td>000 Tonnes</td>\n",
       "      <td>NaN</td>\n",
       "    </tr>\n",
       "  </tbody>\n",
       "</table>\n",
       "<p>1173 rows × 8 columns</p>\n",
       "</div>"
      ],
      "text/plain": [
       "     STATISTIC         Statistic  TLIST(A1)  Year  C02039V02469  \\\n",
       "0      AQA03C1  Area under Crops       1985  1985             1   \n",
       "1      AQA03C1  Area under Crops       1985  1985            11   \n",
       "2      AQA03C1  Area under Crops       1985  1985           111   \n",
       "3      AQA03C1  Area under Crops       1985  1985           112   \n",
       "4      AQA03C1  Area under Crops       1985  1985            12   \n",
       "...        ...               ...        ...   ...           ...   \n",
       "1168   AQA03C3        Crop Yield       2007  2007             4   \n",
       "1169   AQA03C3        Crop Yield       2007  2007             5   \n",
       "1170   AQA03C3        Crop Yield       2007  2007            61   \n",
       "1171   AQA03C3        Crop Yield       2007  2007            62   \n",
       "1172   AQA03C3        Crop Yield       2007  2007             7   \n",
       "\n",
       "                      Type of Crop          UNIT  VALUE  \n",
       "0     Total wheat, oats and barley  000 Hectares  386.2  \n",
       "1                      Total wheat  000 Hectares   77.7  \n",
       "2                     Winter wheat  000 Hectares   60.3  \n",
       "3                     Spring wheat  000 Hectares   17.4  \n",
       "4                       Total oats  000 Hectares   24.9  \n",
       "...                            ...           ...    ...  \n",
       "1168                      Potatoes    000 Tonnes  399.0  \n",
       "1169                       Turnips    000 Tonnes    NaN  \n",
       "1170                    Sugar beet    000 Tonnes    NaN  \n",
       "1171                   Fodder beet    000 Tonnes    NaN  \n",
       "1172        Kale and field cabbage    000 Tonnes    NaN  \n",
       "\n",
       "[1173 rows x 8 columns]"
      ]
     },
     "execution_count": 9,
     "metadata": {},
     "output_type": "execute_result"
    }
   ],
   "source": [
    "# data source: https://data.gov.ie/dataset/aqa03-crop-yield-1985-2007/resource/2bebaae8-f9a0-4080-9e67-a1f2e130a943\n",
    "df = pd.read_csv('dataCA2.csv') # read in the data into a dataframe\n",
    "df                                      # display dataframe"
   ]
  },
  {
   "cell_type": "code",
   "execution_count": 10,
   "metadata": {},
   "outputs": [
    {
     "data": {
      "text/markdown": [
       "<span style='color:red'>**Table 1: Data info**</span>"
      ],
      "text/plain": [
       "<IPython.core.display.Markdown object>"
      ]
     },
     "metadata": {},
     "output_type": "display_data"
    },
    {
     "name": "stdout",
     "output_type": "stream",
     "text": [
      "----------------------------------\n",
      "<class 'pandas.core.frame.DataFrame'>\n",
      "RangeIndex: 1173 entries, 0 to 1172\n",
      "Data columns (total 8 columns):\n",
      " #   Column        Non-Null Count  Dtype  \n",
      "---  ------        --------------  -----  \n",
      " 0   STATISTIC     1173 non-null   object \n",
      " 1   Statistic     1173 non-null   object \n",
      " 2   TLIST(A1)     1173 non-null   int64  \n",
      " 3   Year          1173 non-null   int64  \n",
      " 4   C02039V02469  1173 non-null   int64  \n",
      " 5   Type of Crop  1173 non-null   object \n",
      " 6   UNIT          1173 non-null   object \n",
      " 7   VALUE         1104 non-null   float64\n",
      "dtypes: float64(1), int64(3), object(4)\n",
      "memory usage: 73.4+ KB\n",
      "None\n"
     ]
    },
    {
     "data": {
      "text/markdown": [
       "<span style='color:red'>**Table 2: Data head**</span>"
      ],
      "text/plain": [
       "<IPython.core.display.Markdown object>"
      ]
     },
     "metadata": {},
     "output_type": "display_data"
    },
    {
     "name": "stdout",
     "output_type": "stream",
     "text": [
      "----------------------------------\n",
      "  STATISTIC         Statistic  TLIST(A1)  Year  C02039V02469  \\\n",
      "0   AQA03C1  Area under Crops       1985  1985             1   \n",
      "1   AQA03C1  Area under Crops       1985  1985            11   \n",
      "2   AQA03C1  Area under Crops       1985  1985           111   \n",
      "3   AQA03C1  Area under Crops       1985  1985           112   \n",
      "4   AQA03C1  Area under Crops       1985  1985            12   \n",
      "\n",
      "                   Type of Crop          UNIT  VALUE  \n",
      "0  Total wheat, oats and barley  000 Hectares  386.2  \n",
      "1                   Total wheat  000 Hectares   77.7  \n",
      "2                  Winter wheat  000 Hectares   60.3  \n",
      "3                  Spring wheat  000 Hectares   17.4  \n",
      "4                    Total oats  000 Hectares   24.9  \n"
     ]
    },
    {
     "data": {
      "text/markdown": [
       "<span style='color:red'>**Table 3: Data tail**</span>"
      ],
      "text/plain": [
       "<IPython.core.display.Markdown object>"
      ]
     },
     "metadata": {},
     "output_type": "display_data"
    },
    {
     "name": "stdout",
     "output_type": "stream",
     "text": [
      "----------------------------------\n",
      "     STATISTIC   Statistic  TLIST(A1)  Year  C02039V02469  \\\n",
      "1168   AQA03C3  Crop Yield       2007  2007             4   \n",
      "1169   AQA03C3  Crop Yield       2007  2007             5   \n",
      "1170   AQA03C3  Crop Yield       2007  2007            61   \n",
      "1171   AQA03C3  Crop Yield       2007  2007            62   \n",
      "1172   AQA03C3  Crop Yield       2007  2007             7   \n",
      "\n",
      "                Type of Crop        UNIT  VALUE  \n",
      "1168                Potatoes  000 Tonnes  399.0  \n",
      "1169                 Turnips  000 Tonnes    NaN  \n",
      "1170              Sugar beet  000 Tonnes    NaN  \n",
      "1171             Fodder beet  000 Tonnes    NaN  \n",
      "1172  Kale and field cabbage  000 Tonnes    NaN  \n"
     ]
    },
    {
     "data": {
      "text/markdown": [
       "<span style='color:red'>**Table 4: Data Summary Stats**</span>"
      ],
      "text/plain": [
       "<IPython.core.display.Markdown object>"
      ]
     },
     "metadata": {},
     "output_type": "display_data"
    },
    {
     "data": {
      "text/markdown": [
       "<span style='color:red'>----------------------------------------------</span>"
      ],
      "text/plain": [
       "<IPython.core.display.Markdown object>"
      ]
     },
     "metadata": {},
     "output_type": "display_data"
    },
    {
     "name": "stdout",
     "output_type": "stream",
     "text": [
      "         TLIST(A1)         Year  C02039V02469        VALUE\n",
      "count  1173.000000  1173.000000   1173.000000  1104.000000\n",
      "mean   1996.000000  1996.000000     53.529412   204.333062\n",
      "std       6.636079     6.636079     53.361973   411.534975\n",
      "min    1985.000000  1985.000000      1.000000     0.000000\n",
      "25%    1990.000000  1990.000000      5.000000     7.100000\n",
      "50%    1996.000000  1996.000000     13.000000    31.050000\n",
      "75%    2002.000000  2002.000000    112.000000   158.425000\n",
      "max    2007.000000  2007.000000    132.000000  2500.900000\n"
     ]
    }
   ],
   "source": [
    "# have a look at the data, to see what it looks like\n",
    "printmd(\"**Table 1: Data info**\", color='red')      \n",
    "print(\"----------------------------------\")\n",
    "print(df.info())                                    # print data info on screen\n",
    "\n",
    "printmd(\"**Table 2: Data head**\", color='red')     \n",
    "print(\"----------------------------------\")\n",
    "print(df.head())                                    # view top of the data set\n",
    "\n",
    "printmd(\"**Table 3: Data tail**\", color='red')\n",
    "print(\"----------------------------------\")\n",
    "print(df.tail())                                    #view bottom of the data set#\n",
    "printmd(\"**Table 4: Data Summary Stats**\", color='red')                 # print table numbers and headings\n",
    "printmd(\"----------------------------------------------\", color='red')  # separate output by a line\n",
    "print(df.describe())     "
   ]
  },
  {
   "cell_type": "code",
   "execution_count": null,
   "metadata": {},
   "outputs": [],
   "source": []
  }
 ],
 "metadata": {
  "kernelspec": {
   "display_name": "Python 3",
   "language": "python",
   "name": "python3"
  },
  "language_info": {
   "codemirror_mode": {
    "name": "ipython",
    "version": 3
   },
   "file_extension": ".py",
   "mimetype": "text/x-python",
   "name": "python",
   "nbconvert_exporter": "python",
   "pygments_lexer": "ipython3",
   "version": "3.8.3"
  }
 },
 "nbformat": 4,
 "nbformat_minor": 4
}
